{
 "cells": [
  {
   "cell_type": "code",
   "execution_count": 1,
   "metadata": {},
   "outputs": [
    {
     "data": {
      "text/plain": [
       "1.000"
      ]
     },
     "execution_count": 1,
     "metadata": {},
     "output_type": "execute_result"
    }
   ],
   "source": [
    "#CSCI 1133 Section 19 Lab 006, Isaiah Herr, herrx080, Worksheet 1\n",
    "#Partner: Hongju Kim\n",
    "\n",
    "import csv\n",
    "%precision 3\n",
    "1.0"
   ]
  },
  {
   "cell_type": "code",
   "execution_count": 2,
   "metadata": {},
   "outputs": [
    {
     "data": {
      "text/plain": [
       "[16.859, 23.440]"
      ]
     },
     "execution_count": 2,
     "metadata": {},
     "output_type": "execute_result"
    }
   ],
   "source": [
    "#Task 1\n",
    "\n",
    "with open('cars_mpg-1.csv') as f:\n",
    "    mpg = list(csv.DictReader(f))\n",
    "\n",
    "\n",
    "hwycity = []\n",
    "hwycity = [sum(int(d['cty']) for d in mpg)/len(mpg), sum(int(d['hwy']) for d in mpg)/len(mpg)] #Creates a list\n",
    "hwycity #containing averages for city and highway mpg"
   ]
  },
  {
   "cell_type": "code",
   "execution_count": 3,
   "metadata": {},
   "outputs": [
    {
     "data": {
      "text/plain": [
       "{'allude',\n",
       " 'chevron',\n",
       " 'doggie',\n",
       " 'freeway',\n",
       " 'honda',\n",
       " 'hyundai',\n",
       " 'jeep',\n",
       " 'land rover',\n",
       " 'lincoln',\n",
       " 'mercury',\n",
       " 'nissan',\n",
       " 'silver',\n",
       " 'subbie',\n",
       " 'tinker',\n",
       " 'volks'}"
      ]
     },
     "execution_count": 3,
     "metadata": {},
     "output_type": "execute_result"
    }
   ],
   "source": [
    "#Task 2\n",
    "\n",
    "Manu = set(m['manufacturer'] for m in mpg) #Creates a set containing all manufacturer names with no duplicates\n",
    "Manu"
   ]
  },
  {
   "cell_type": "code",
   "execution_count": 4,
   "metadata": {},
   "outputs": [
    {
     "data": {
      "text/plain": [
       "[[('tinker', 18.529),\n",
       "  ('lincoln', 11.333),\n",
       "  ('hyundai', 18.643),\n",
       "  ('jeep', 13.500),\n",
       "  ('volks', 20.926),\n",
       "  ('nissan', 18.077),\n",
       "  ('allude', 17.611),\n",
       "  ('chevron', 15.000),\n",
       "  ('doggie', 13.135),\n",
       "  ('silver', 17.000),\n",
       "  ('honda', 24.444),\n",
       "  ('subbie', 19.286),\n",
       "  ('land rover', 11.500),\n",
       "  ('mercury', 13.250),\n",
       "  ('freeway', 14.000)],\n",
       " [('tinker', 24.912),\n",
       "  ('lincoln', 17.000),\n",
       "  ('hyundai', 26.857),\n",
       "  ('jeep', 17.625),\n",
       "  ('volks', 29.222),\n",
       "  ('nissan', 24.615),\n",
       "  ('allude', 26.444),\n",
       "  ('chevron', 21.895),\n",
       "  ('doggie', 17.946),\n",
       "  ('silver', 26.400),\n",
       "  ('honda', 32.556),\n",
       "  ('subbie', 25.571),\n",
       "  ('land rover', 16.500),\n",
       "  ('mercury', 18.000),\n",
       "  ('freeway', 19.360)]]"
      ]
     },
     "execution_count": 4,
     "metadata": {},
     "output_type": "execute_result"
    }
   ],
   "source": [
    "#Task 3\n",
    "\n",
    "newlist = [] #list that will contain the list of lists\n",
    "clist = [] #list for the city\n",
    "hlist = [] #list for the highway\n",
    "for m in Manu:\n",
    "    cmpg = 0\n",
    "    hmpg = 0\n",
    "    count = 0\n",
    "    \n",
    "    for c in mpg: #For loop that calculates average mpg in the city for each manufacturer\n",
    "        if c['manufacturer'] ==  m:\n",
    "            count = count + 1\n",
    "            cmpg = cmpg + float(c['cty'])\n",
    "    clist.append((m, cmpg/count))\n",
    "\n",
    "    for h in mpg: #For loop that calculates average mpg in the highway for each manufacturer\n",
    "        if h['manufacturer']==  m:\n",
    "            hmpg = hmpg + float(h['hwy'])\n",
    "    hlist.append((m, hmpg/count))\n",
    "    \n",
    "newlist.append(clist)\n",
    "newlist.append(hlist)\n",
    "\n",
    "newlist"
   ]
  },
  {
   "cell_type": "code",
   "execution_count": 5,
   "metadata": {},
   "outputs": [
    {
     "data": {
      "text/plain": [
       "[[('lincoln', 11.333),\n",
       "  ('land rover', 11.500),\n",
       "  ('doggie', 13.135),\n",
       "  ('mercury', 13.250),\n",
       "  ('jeep', 13.500),\n",
       "  ('freeway', 14.000),\n",
       "  ('chevron', 15.000),\n",
       "  ('silver', 17.000),\n",
       "  ('allude', 17.611),\n",
       "  ('nissan', 18.077),\n",
       "  ('tinker', 18.529),\n",
       "  ('hyundai', 18.643),\n",
       "  ('subbie', 19.286),\n",
       "  ('volks', 20.926),\n",
       "  ('honda', 24.444)],\n",
       " [('land rover', 16.500),\n",
       "  ('lincoln', 17.000),\n",
       "  ('jeep', 17.625),\n",
       "  ('doggie', 17.946),\n",
       "  ('mercury', 18.000),\n",
       "  ('freeway', 19.360),\n",
       "  ('chevron', 21.895),\n",
       "  ('nissan', 24.615),\n",
       "  ('tinker', 24.912),\n",
       "  ('subbie', 25.571),\n",
       "  ('silver', 26.400),\n",
       "  ('allude', 26.444),\n",
       "  ('hyundai', 26.857),\n",
       "  ('volks', 29.222),\n",
       "  ('honda', 32.556)]]"
      ]
     },
     "execution_count": 5,
     "metadata": {},
     "output_type": "execute_result"
    }
   ],
   "source": [
    "#Task 4\n",
    "for x in newlist: #Sorts each list in the list of lists by the average mpg from least to greatest\n",
    "    x.sort(key= lambda x: x[1])\n",
    "newlist"
   ]
  },
  {
   "cell_type": "code",
   "execution_count": 6,
   "metadata": {},
   "outputs": [
    {
     "data": {
      "text/html": [
       "<div>\n",
       "<style scoped>\n",
       "    .dataframe tbody tr th:only-of-type {\n",
       "        vertical-align: middle;\n",
       "    }\n",
       "\n",
       "    .dataframe tbody tr th {\n",
       "        vertical-align: top;\n",
       "    }\n",
       "\n",
       "    .dataframe thead th {\n",
       "        text-align: right;\n",
       "    }\n",
       "</style>\n",
       "<table border=\"1\" class=\"dataframe\">\n",
       "  <thead>\n",
       "    <tr style=\"text-align: right;\">\n",
       "      <th></th>\n",
       "      <th>manufacturer</th>\n",
       "      <th>model</th>\n",
       "      <th>displ</th>\n",
       "      <th>year</th>\n",
       "      <th>cyl</th>\n",
       "      <th>trans</th>\n",
       "      <th>drv</th>\n",
       "      <th>cty</th>\n",
       "      <th>hwy</th>\n",
       "      <th>fl</th>\n",
       "      <th>class</th>\n",
       "    </tr>\n",
       "  </thead>\n",
       "  <tbody>\n",
       "    <tr>\n",
       "      <th>1</th>\n",
       "      <td>allude</td>\n",
       "      <td>excel</td>\n",
       "      <td>1.8</td>\n",
       "      <td>1999</td>\n",
       "      <td>4</td>\n",
       "      <td>auto(l5)</td>\n",
       "      <td>f</td>\n",
       "      <td>18</td>\n",
       "      <td>29</td>\n",
       "      <td>p</td>\n",
       "      <td>compact</td>\n",
       "    </tr>\n",
       "    <tr>\n",
       "      <th>2</th>\n",
       "      <td>allude</td>\n",
       "      <td>excel</td>\n",
       "      <td>1.8</td>\n",
       "      <td>1999</td>\n",
       "      <td>4</td>\n",
       "      <td>manual(m5)</td>\n",
       "      <td>f</td>\n",
       "      <td>21</td>\n",
       "      <td>29</td>\n",
       "      <td>p</td>\n",
       "      <td>compact</td>\n",
       "    </tr>\n",
       "    <tr>\n",
       "      <th>3</th>\n",
       "      <td>allude</td>\n",
       "      <td>excel</td>\n",
       "      <td>2.0</td>\n",
       "      <td>2008</td>\n",
       "      <td>4</td>\n",
       "      <td>manual(m6)</td>\n",
       "      <td>f</td>\n",
       "      <td>20</td>\n",
       "      <td>31</td>\n",
       "      <td>p</td>\n",
       "      <td>compact</td>\n",
       "    </tr>\n",
       "    <tr>\n",
       "      <th>4</th>\n",
       "      <td>allude</td>\n",
       "      <td>excel</td>\n",
       "      <td>2.0</td>\n",
       "      <td>2008</td>\n",
       "      <td>4</td>\n",
       "      <td>auto(av)</td>\n",
       "      <td>f</td>\n",
       "      <td>21</td>\n",
       "      <td>30</td>\n",
       "      <td>p</td>\n",
       "      <td>compact</td>\n",
       "    </tr>\n",
       "    <tr>\n",
       "      <th>5</th>\n",
       "      <td>allude</td>\n",
       "      <td>excel</td>\n",
       "      <td>2.8</td>\n",
       "      <td>1999</td>\n",
       "      <td>6</td>\n",
       "      <td>auto(l5)</td>\n",
       "      <td>f</td>\n",
       "      <td>16</td>\n",
       "      <td>26</td>\n",
       "      <td>p</td>\n",
       "      <td>compact</td>\n",
       "    </tr>\n",
       "  </tbody>\n",
       "</table>\n",
       "</div>"
      ],
      "text/plain": [
       "  manufacturer  model  displ  year  cyl       trans drv  cty  hwy fl    class\n",
       "1       allude  excel    1.8  1999    4    auto(l5)   f   18   29  p  compact\n",
       "2       allude  excel    1.8  1999    4  manual(m5)   f   21   29  p  compact\n",
       "3       allude  excel    2.0  2008    4  manual(m6)   f   20   31  p  compact\n",
       "4       allude  excel    2.0  2008    4    auto(av)   f   21   30  p  compact\n",
       "5       allude  excel    2.8  1999    6    auto(l5)   f   16   26  p  compact"
      ]
     },
     "execution_count": 6,
     "metadata": {},
     "output_type": "execute_result"
    }
   ],
   "source": [
    "#Task 5\n",
    "\n",
    "import pandas as pd\n",
    "from pandas import DataFrame, Series\n",
    "\n",
    "df = pd.read_csv('cars_mpg-1.csv', index_col=0)\n",
    "df.head() #Returns first 5 heads of the csv document"
   ]
  },
  {
   "cell_type": "code",
   "execution_count": 7,
   "metadata": {},
   "outputs": [
    {
     "name": "stdout",
     "output_type": "stream",
     "text": [
      "35\n",
      "44\n"
     ]
    }
   ],
   "source": [
    "#Task 6\n",
    "\n",
    "print(max(df['cty'])) #maximum mpg for city\n",
    "print(max(df['hwy'])) #maximum mpg for highway"
   ]
  },
  {
   "cell_type": "code",
   "execution_count": 8,
   "metadata": {},
   "outputs": [
    {
     "data": {
      "text/html": [
       "<div>\n",
       "<style scoped>\n",
       "    .dataframe tbody tr th:only-of-type {\n",
       "        vertical-align: middle;\n",
       "    }\n",
       "\n",
       "    .dataframe tbody tr th {\n",
       "        vertical-align: top;\n",
       "    }\n",
       "\n",
       "    .dataframe thead th {\n",
       "        text-align: right;\n",
       "    }\n",
       "</style>\n",
       "<table border=\"1\" class=\"dataframe\">\n",
       "  <thead>\n",
       "    <tr style=\"text-align: right;\">\n",
       "      <th></th>\n",
       "      <th>mpg_city</th>\n",
       "      <th>mpg_highway</th>\n",
       "    </tr>\n",
       "  </thead>\n",
       "  <tbody>\n",
       "    <tr>\n",
       "      <th>0</th>\n",
       "      <td>16.858974</td>\n",
       "      <td>23.440171</td>\n",
       "    </tr>\n",
       "  </tbody>\n",
       "</table>\n",
       "</div>"
      ],
      "text/plain": [
       "    mpg_city  mpg_highway\n",
       "0  16.858974    23.440171"
      ]
     },
     "execution_count": 8,
     "metadata": {},
     "output_type": "execute_result"
    }
   ],
   "source": [
    "#Task 7\n",
    "\n",
    "mpg_city = sum(int(d['cty']) for d in mpg)/len(mpg) #average mpg for city\n",
    "mpg_highway = sum(int(d['hwy']) for d in mpg)/len(mpg) #average mpg for highway\n",
    "\n",
    "avgdata = pd.DataFrame({'mpg_city': [mpg_city], 'mpg_highway': [mpg_highway]}) #Uses a dictionary to put both keys and values into a DataFrame\n",
    "\n",
    "avgdata"
   ]
  },
  {
   "cell_type": "code",
   "execution_count": 10,
   "metadata": {},
   "outputs": [
    {
     "name": "stdout",
     "output_type": "stream",
     "text": [
      "AxesSubplot(0.125,0.125;0.775x0.755)\n"
     ]
    },
    {
     "data": {
      "image/png": "[encoded data removed]",
      "text/plain": [
       "<matplotlib.figure.Figure at 0x7f5956218160>"
      ]
     },
     "metadata": {},
     "output_type": "display_data"
    }
   ],
   "source": [
    "#Task 8\n",
    "\n",
    "import matplotlib.pyplot as plt\n",
    "\n",
    "graph = df['hwy'].plot.bar() #Plots the mpgs for highway using a bargraph\n",
    "\n",
    "print(graph)"
   ]
  },
  {
   "cell_type": "code",
   "execution_count": null,
   "metadata": {},
   "outputs": [],
   "source": []
  }
 ],
 "metadata": {
  "kernelspec": {
   "display_name": "Python 3",
   "language": "python",
   "name": "python3"
  },
  "language_info": {
   "codemirror_mode": {
    "name": "ipython",
    "version": 3
   },
   "file_extension": ".py",
   "mimetype": "text/x-python",
   "name": "python",
   "nbconvert_exporter": "python",
   "pygments_lexer": "ipython3",
   "version": "3.6.7"
  }
 },
 "nbformat": 4,
 "nbformat_minor": 2
}
