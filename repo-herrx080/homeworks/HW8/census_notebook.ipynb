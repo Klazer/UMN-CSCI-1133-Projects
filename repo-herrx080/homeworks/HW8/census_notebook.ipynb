{
 "cells": [
  {
   "cell_type": "code",
   "execution_count": 1,
   "metadata": {},
   "outputs": [],
   "source": [
    "#CSCI 1133 Section 19 Lab 006, Isaiah Herr, herrx080, Worksheet 2\n",
    "#Partner: Hongju Kim\n",
    "\n",
    "import csv\n",
    "%precision 3\n",
    "\n",
    "import pandas as pd\n",
    "from pandas import DataFrame, Series\n",
    "\n",
    "with open('census.csv') as f:\n",
    "    census = list(csv.DictReader(f))"
   ]
  },
  {
   "cell_type": "code",
   "execution_count": 23,
   "metadata": {},
   "outputs": [
    {
     "data": {
      "text/plain": [
       "'District of Columbia'"
      ]
     },
     "execution_count": 23,
     "metadata": {},
     "output_type": "execute_result"
    }
   ],
   "source": [
    "#Task 1\n",
    "\n",
    "#==========================================\n",
    "# Name: answer1()\n",
    "#\n",
    "# Purpose: Creates a dataframe containing only counties for each state and \n",
    "# finds the state with the least amount of counties\n",
    "#\n",
    "# Precondition: Must contain the file 'census.csv' in the same directory\n",
    "#\n",
    "# Input Parameter(s): N/A\n",
    "#\n",
    "# Return Value(s): A string containing the state with the least amount of counties.\n",
    "#\n",
    "# Only one state should be returned\n",
    "#============================================\n",
    "\n",
    "def answer1():\n",
    "    df = pd.read_csv('census.csv')\n",
    "\n",
    "    temp = df.where(df['SUMLEV'] == max(df['SUMLEV'])).dropna() #Creates a DataFrame containing only 50s, AKA counties\n",
    "    val = dict(temp['STNAME'].value_counts()) #Counts and groups the number of counties for each state\n",
    "\n",
    "    minimum = min(val, key=val.get)\n",
    "    minimum\n",
    "\n",
    "answer1()"
   ]
  },
  {
   "cell_type": "code",
   "execution_count": 153,
   "metadata": {},
   "outputs": [
    {
     "data": {
      "text/plain": [
       "'California, 438928.5'"
      ]
     },
     "execution_count": 153,
     "metadata": {},
     "output_type": "execute_result"
    }
   ],
   "source": [
    "#Task 2\n",
    "\n",
    "#==========================================\n",
    "# Name: answer2()\n",
    "#\n",
    "# Purpose: Calculates average births from 2010 to 2015 for each state\n",
    "# and returns a string containing the state and value that represents the \n",
    "# highest average growths in the populations by births\n",
    "#\n",
    "# Precondition: Must contain the 'census.csv' file along with the dataframe\n",
    "# for census created already\n",
    "#\n",
    "# Input Parameter(s): N/A\n",
    "#\n",
    "# Return Value(s): A stirng containing the state and value that represents\n",
    "# the highest average growth in the population due to births.\n",
    "#============================================\n",
    "\n",
    "def answer2():\n",
    "    birth = 2010\n",
    "    avg = 0\n",
    "\n",
    "    temp = df.where(df['SUMLEV'] == min(df['SUMLEV'])).dropna() #Creates a dataframe with only 40s AKA 'States'\n",
    "\n",
    "    for x in temp.iterrows(): #For loop that adds all births from 2010 to 2015 for each row\n",
    "        if bnum >= 2010 and bnum <= 2015:\n",
    "            avg = avg + temp['BIRTHS' + str(birth)]\n",
    "            birth = birth + 1\n",
    "        \n",
    "    avg = avg/6 #Divides the sum of births from 2010 to 2015 to get the average\n",
    "    avg.index = temp['STNAME'] #Makes it so that our indices are the states instead of numbers\n",
    "\n",
    "    newdict = dict(add)\n",
    "\n",
    "    return (str(max(newdict, key=newdict.get)) + ', ' + str(max(newdict.values()))) #Returns a string containing the state and max value\n",
    "\n",
    "answer2()\n"
   ]
  }
 ],
 "metadata": {
  "kernelspec": {
   "display_name": "Python 3",
   "language": "python",
   "name": "python3"
  },
  "language_info": {
   "codemirror_mode": {
    "name": "ipython",
    "version": 3
   },
   "file_extension": ".py",
   "mimetype": "text/x-python",
   "name": "python",
   "nbconvert_exporter": "python",
   "pygments_lexer": "ipython3",
   "version": "3.6.7"
  }
 },
 "nbformat": 4,
 "nbformat_minor": 2
}
